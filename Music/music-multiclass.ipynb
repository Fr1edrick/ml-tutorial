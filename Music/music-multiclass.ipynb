{
 "cells": [
  {
   "cell_type": "code",
   "execution_count": 1,
   "metadata": {},
   "outputs": [],
   "source": [
    "import pandas as pd\n",
    "\n",
    "import matplotlib.pyplot as plt\n",
    "%matplotlib inline\n",
    "\n",
    "from sklearn.neural_network import MLPClassifier\n",
    "\n",
    "from sklearn.metrics import ConfusionMatrixDisplay, precision_score, recall_score, f1_score\n",
    "\n",
    "from sklearn.preprocessing import StandardScaler\n",
    "from sklearn.model_selection import train_test_split"
   ]
  },
  {
   "cell_type": "code",
   "execution_count": 2,
   "metadata": {},
   "outputs": [],
   "source": [
    "pd.options.display.max_columns = 100"
   ]
  },
  {
   "cell_type": "markdown",
   "metadata": {},
   "source": [
    "### Reading the dataset"
   ]
  },
  {
   "cell_type": "code",
   "execution_count": 3,
   "metadata": {},
   "outputs": [],
   "source": [
    "music_df = pd.read_csv('./data/msd_genre_dataset.txt')"
   ]
  },
  {
   "cell_type": "code",
   "execution_count": 4,
   "metadata": {},
   "outputs": [
    {
     "data": {
      "text/plain": [
       "genre              object\n",
       "track_id           object\n",
       "artist_name        object\n",
       "title              object\n",
       "loudness          float64\n",
       "tempo             float64\n",
       "time_signature      int64\n",
       "key                 int64\n",
       "mode                int64\n",
       "duration          float64\n",
       "avg_timbre1       float64\n",
       "avg_timbre2       float64\n",
       "avg_timbre3       float64\n",
       "avg_timbre4       float64\n",
       "avg_timbre5       float64\n",
       "avg_timbre6       float64\n",
       "avg_timbre7       float64\n",
       "avg_timbre8       float64\n",
       "avg_timbre9       float64\n",
       "avg_timbre10      float64\n",
       "avg_timbre11      float64\n",
       "avg_timbre12      float64\n",
       "var_timbre1       float64\n",
       "var_timbre2       float64\n",
       "var_timbre3       float64\n",
       "var_timbre4       float64\n",
       "var_timbre5       float64\n",
       "var_timbre6       float64\n",
       "var_timbre7       float64\n",
       "var_timbre8       float64\n",
       "var_timbre9       float64\n",
       "var_timbre10      float64\n",
       "var_timbre11      float64\n",
       "var_timbre12      float64\n",
       "dtype: object"
      ]
     },
     "execution_count": 4,
     "metadata": {},
     "output_type": "execute_result"
    }
   ],
   "source": [
    "music_df.dtypes"
   ]
  },
  {
   "cell_type": "code",
   "execution_count": 5,
   "metadata": {},
   "outputs": [
    {
     "data": {
      "text/html": [
       "<div>\n",
       "<style scoped>\n",
       "    .dataframe tbody tr th:only-of-type {\n",
       "        vertical-align: middle;\n",
       "    }\n",
       "\n",
       "    .dataframe tbody tr th {\n",
       "        vertical-align: top;\n",
       "    }\n",
       "\n",
       "    .dataframe thead th {\n",
       "        text-align: right;\n",
       "    }\n",
       "</style>\n",
       "<table border=\"1\" class=\"dataframe\">\n",
       "  <thead>\n",
       "    <tr style=\"text-align: right;\">\n",
       "      <th></th>\n",
       "      <th>genre</th>\n",
       "      <th>track_id</th>\n",
       "      <th>artist_name</th>\n",
       "      <th>title</th>\n",
       "      <th>loudness</th>\n",
       "      <th>tempo</th>\n",
       "      <th>time_signature</th>\n",
       "      <th>key</th>\n",
       "      <th>mode</th>\n",
       "      <th>duration</th>\n",
       "      <th>avg_timbre1</th>\n",
       "      <th>avg_timbre2</th>\n",
       "      <th>avg_timbre3</th>\n",
       "      <th>avg_timbre4</th>\n",
       "      <th>avg_timbre5</th>\n",
       "      <th>avg_timbre6</th>\n",
       "      <th>avg_timbre7</th>\n",
       "      <th>avg_timbre8</th>\n",
       "      <th>avg_timbre9</th>\n",
       "      <th>avg_timbre10</th>\n",
       "      <th>avg_timbre11</th>\n",
       "      <th>avg_timbre12</th>\n",
       "      <th>var_timbre1</th>\n",
       "      <th>var_timbre2</th>\n",
       "      <th>var_timbre3</th>\n",
       "      <th>var_timbre4</th>\n",
       "      <th>var_timbre5</th>\n",
       "      <th>var_timbre6</th>\n",
       "      <th>var_timbre7</th>\n",
       "      <th>var_timbre8</th>\n",
       "      <th>var_timbre9</th>\n",
       "      <th>var_timbre10</th>\n",
       "      <th>var_timbre11</th>\n",
       "      <th>var_timbre12</th>\n",
       "    </tr>\n",
       "  </thead>\n",
       "  <tbody>\n",
       "    <tr>\n",
       "      <th>0</th>\n",
       "      <td>classic pop and rock</td>\n",
       "      <td>TRFCOOU128F427AEC0</td>\n",
       "      <td>Blue Oyster Cult</td>\n",
       "      <td>Mes Dames Sarat</td>\n",
       "      <td>-8.697</td>\n",
       "      <td>155.007</td>\n",
       "      <td>1</td>\n",
       "      <td>9</td>\n",
       "      <td>1</td>\n",
       "      <td>246.33424</td>\n",
       "      <td>46.673067</td>\n",
       "      <td>14.613684</td>\n",
       "      <td>14.664215</td>\n",
       "      <td>0.176561</td>\n",
       "      <td>-9.346377</td>\n",
       "      <td>-12.341699</td>\n",
       "      <td>11.183382</td>\n",
       "      <td>7.405288</td>\n",
       "      <td>9.313765</td>\n",
       "      <td>3.201169</td>\n",
       "      <td>-0.152734</td>\n",
       "      <td>5.809709</td>\n",
       "      <td>14.930820</td>\n",
       "      <td>802.205948</td>\n",
       "      <td>1255.514569</td>\n",
       "      <td>580.030472</td>\n",
       "      <td>598.485223</td>\n",
       "      <td>575.337671</td>\n",
       "      <td>322.068603</td>\n",
       "      <td>321.726029</td>\n",
       "      <td>232.700609</td>\n",
       "      <td>186.805303</td>\n",
       "      <td>181.938688</td>\n",
       "      <td>151.508011</td>\n",
       "    </tr>\n",
       "    <tr>\n",
       "      <th>1</th>\n",
       "      <td>classic pop and rock</td>\n",
       "      <td>TRNJTPB128F427AE9F</td>\n",
       "      <td>Blue Oyster Cult</td>\n",
       "      <td>Screams</td>\n",
       "      <td>-10.659</td>\n",
       "      <td>148.462</td>\n",
       "      <td>1</td>\n",
       "      <td>4</td>\n",
       "      <td>0</td>\n",
       "      <td>189.80526</td>\n",
       "      <td>43.645377</td>\n",
       "      <td>-87.337150</td>\n",
       "      <td>41.051582</td>\n",
       "      <td>7.814770</td>\n",
       "      <td>-12.989848</td>\n",
       "      <td>-14.253599</td>\n",
       "      <td>6.126045</td>\n",
       "      <td>-2.448662</td>\n",
       "      <td>22.691713</td>\n",
       "      <td>-2.872706</td>\n",
       "      <td>1.427725</td>\n",
       "      <td>-6.710730</td>\n",
       "      <td>22.704843</td>\n",
       "      <td>1561.307072</td>\n",
       "      <td>2007.653070</td>\n",
       "      <td>1043.474073</td>\n",
       "      <td>585.694981</td>\n",
       "      <td>564.013736</td>\n",
       "      <td>510.177022</td>\n",
       "      <td>400.200186</td>\n",
       "      <td>365.119588</td>\n",
       "      <td>238.099708</td>\n",
       "      <td>197.933757</td>\n",
       "      <td>251.577525</td>\n",
       "    </tr>\n",
       "  </tbody>\n",
       "</table>\n",
       "</div>"
      ],
      "text/plain": [
       "                  genre            track_id       artist_name  \\\n",
       "0  classic pop and rock  TRFCOOU128F427AEC0  Blue Oyster Cult   \n",
       "1  classic pop and rock  TRNJTPB128F427AE9F  Blue Oyster Cult   \n",
       "\n",
       "             title  loudness    tempo  time_signature  key  mode   duration  \\\n",
       "0  Mes Dames Sarat    -8.697  155.007               1    9     1  246.33424   \n",
       "1          Screams   -10.659  148.462               1    4     0  189.80526   \n",
       "\n",
       "   avg_timbre1  avg_timbre2  avg_timbre3  avg_timbre4  avg_timbre5  \\\n",
       "0    46.673067    14.613684    14.664215     0.176561    -9.346377   \n",
       "1    43.645377   -87.337150    41.051582     7.814770   -12.989848   \n",
       "\n",
       "   avg_timbre6  avg_timbre7  avg_timbre8  avg_timbre9  avg_timbre10  \\\n",
       "0   -12.341699    11.183382     7.405288     9.313765      3.201169   \n",
       "1   -14.253599     6.126045    -2.448662    22.691713     -2.872706   \n",
       "\n",
       "   avg_timbre11  avg_timbre12  var_timbre1  var_timbre2  var_timbre3  \\\n",
       "0     -0.152734      5.809709    14.930820   802.205948  1255.514569   \n",
       "1      1.427725     -6.710730    22.704843  1561.307072  2007.653070   \n",
       "\n",
       "   var_timbre4  var_timbre5  var_timbre6  var_timbre7  var_timbre8  \\\n",
       "0   580.030472   598.485223   575.337671   322.068603   321.726029   \n",
       "1  1043.474073   585.694981   564.013736   510.177022   400.200186   \n",
       "\n",
       "   var_timbre9  var_timbre10  var_timbre11  var_timbre12  \n",
       "0   232.700609    186.805303    181.938688    151.508011  \n",
       "1   365.119588    238.099708    197.933757    251.577525  "
      ]
     },
     "execution_count": 5,
     "metadata": {},
     "output_type": "execute_result"
    }
   ],
   "source": [
    "music_df.head(2)"
   ]
  },
  {
   "cell_type": "code",
   "execution_count": 6,
   "metadata": {},
   "outputs": [
    {
     "data": {
      "text/plain": [
       "classic pop and rock     0.400923\n",
       "folk                     0.221342\n",
       "dance and electronica    0.082802\n",
       "jazz and blues           0.072718\n",
       "soul and reggae          0.067383\n",
       "punk                     0.053691\n",
       "metal                    0.035285\n",
       "classical                0.031443\n",
       "pop                      0.027131\n",
       "hip-hop                  0.007282\n",
       "Name: genre, dtype: float64"
      ]
     },
     "execution_count": 6,
     "metadata": {},
     "output_type": "execute_result"
    }
   ],
   "source": [
    "music_df['genre'].value_counts(normalize = True)"
   ]
  },
  {
   "cell_type": "code",
   "execution_count": 7,
   "metadata": {},
   "outputs": [],
   "source": [
    "music_df.loc[music_df['genre'] == 'classic pop and rock', 'genre'] = 0\n",
    "music_df.loc[music_df['genre'] == 'folk', 'genre'] = 1\n",
    "music_df.loc[music_df['genre'] == 'dance and electronica', 'genre'] = 2\n",
    "music_df.loc[music_df['genre'] == 'jazz and blues', 'genre'] = 3\n",
    "music_df.loc[music_df['genre'] == 'soul and reggae', 'genre'] = 4\n",
    "music_df.loc[music_df['genre'] == 'punk', 'genre'] = 5\n",
    "music_df.loc[music_df['genre'] == 'metal', 'genre'] = 6\n",
    "music_df.loc[music_df['genre'] == 'classical', 'genre'] = 7\n",
    "music_df.loc[music_df['genre'] == 'pop', 'genre'] = 8\n",
    "music_df.loc[music_df['genre'] == 'hip-hop', 'genre'] = 9"
   ]
  },
  {
   "cell_type": "code",
   "execution_count": 8,
   "metadata": {},
   "outputs": [],
   "source": [
    "music_df['genre'] = music_df['genre'].astype(int)"
   ]
  },
  {
   "cell_type": "code",
   "execution_count": 9,
   "metadata": {},
   "outputs": [
    {
     "data": {
      "text/plain": [
       "0    0.400923\n",
       "1    0.221342\n",
       "2    0.082802\n",
       "3    0.072718\n",
       "4    0.067383\n",
       "5    0.053691\n",
       "6    0.035285\n",
       "7    0.031443\n",
       "8    0.027131\n",
       "9    0.007282\n",
       "Name: genre, dtype: float64"
      ]
     },
     "execution_count": 9,
     "metadata": {},
     "output_type": "execute_result"
    }
   ],
   "source": [
    "music_df['genre'].value_counts(normalize = True)"
   ]
  },
  {
   "cell_type": "markdown",
   "metadata": {},
   "source": [
    "### Splitting train and test datasets"
   ]
  },
  {
   "cell_type": "code",
   "execution_count": 10,
   "metadata": {},
   "outputs": [],
   "source": [
    "X = music_df[music_df.columns.tolist()[4:]]"
   ]
  },
  {
   "cell_type": "code",
   "execution_count": 11,
   "metadata": {},
   "outputs": [],
   "source": [
    "Y = music_df['genre']"
   ]
  },
  {
   "cell_type": "code",
   "execution_count": 12,
   "metadata": {},
   "outputs": [],
   "source": [
    "X_train, X_test, Y_train, Y_test = train_test_split(X, Y, test_size = 0.3, stratify = Y)"
   ]
  },
  {
   "cell_type": "code",
   "execution_count": 13,
   "metadata": {},
   "outputs": [
    {
     "data": {
      "text/plain": [
       "0    0.400935\n",
       "1    0.221333\n",
       "2    0.082790\n",
       "3    0.072723\n",
       "4    0.067378\n",
       "5    0.053691\n",
       "6    0.035283\n",
       "7    0.031448\n",
       "8    0.027133\n",
       "9    0.007287\n",
       "Name: genre, dtype: float64"
      ]
     },
     "execution_count": 13,
     "metadata": {},
     "output_type": "execute_result"
    }
   ],
   "source": [
    "pd.Series(Y_train).value_counts(normalize = True)"
   ]
  },
  {
   "cell_type": "code",
   "execution_count": 14,
   "metadata": {},
   "outputs": [
    {
     "data": {
      "text/plain": [
       "0    0.400895\n",
       "1    0.221365\n",
       "2    0.082830\n",
       "3    0.072707\n",
       "4    0.067394\n",
       "5    0.053691\n",
       "6    0.035291\n",
       "7    0.031432\n",
       "8    0.027125\n",
       "9    0.007271\n",
       "Name: genre, dtype: float64"
      ]
     },
     "execution_count": 14,
     "metadata": {},
     "output_type": "execute_result"
    }
   ],
   "source": [
    "pd.Series(Y_test).value_counts(normalize = True)"
   ]
  },
  {
   "cell_type": "markdown",
   "metadata": {},
   "source": [
    "### Preprocessing feature matrix"
   ]
  },
  {
   "cell_type": "code",
   "execution_count": 15,
   "metadata": {},
   "outputs": [],
   "source": [
    "scaler = StandardScaler()\n",
    "X_train = scaler.fit_transform(X_train)"
   ]
  },
  {
   "cell_type": "code",
   "execution_count": 16,
   "metadata": {},
   "outputs": [],
   "source": [
    "X_test = scaler.transform(X_test)"
   ]
  },
  {
   "cell_type": "markdown",
   "metadata": {},
   "source": [
    "### Training a multi-class Neural Networks model"
   ]
  },
  {
   "cell_type": "code",
   "execution_count": 21,
   "metadata": {},
   "outputs": [],
   "source": [
    "neural_model = MLPClassifier((50, 50, 50, 50, 50, 50))\n",
    "# Modelo con ajuste de capas ocultas para verificar el funcionamiento\n",
    "#neural_model = MLPClassifier(hidden_layer_sizes = (50, 50, 50), max_iter = 300, activation = 'relu', solver = 'adam', random_state = 1)"
   ]
  },
  {
   "cell_type": "code",
   "execution_count": 22,
   "metadata": {},
   "outputs": [
    {
     "name": "stderr",
     "output_type": "stream",
     "text": [
      "C:\\ProgramData\\Anaconda3\\lib\\site-packages\\sklearn\\neural_network\\_multilayer_perceptron.py:614: ConvergenceWarning: Stochastic Optimizer: Maximum iterations (200) reached and the optimization hasn't converged yet.\n",
      "  warnings.warn(\n"
     ]
    },
    {
     "data": {
      "text/plain": [
       "MLPClassifier(hidden_layer_sizes=(50, 50, 50, 50, 50, 50))"
      ]
     },
     "execution_count": 22,
     "metadata": {},
     "output_type": "execute_result"
    }
   ],
   "source": [
    "neural_model.fit(X_train, Y_train)"
   ]
  },
  {
   "cell_type": "code",
   "execution_count": null,
   "metadata": {},
   "outputs": [],
   "source": [
    "predictions = neural_model.predict(X_test)"
   ]
  },
  {
   "cell_type": "code",
   "execution_count": null,
   "metadata": {},
   "outputs": [],
   "source": [
    "fig, ax = plt.subplots(figsize = (20, 20))\n",
    "ConfusionMatrixDisplay.from_predictions(Y_test, predictions, display_labels = ['classic pop and rock', 'folk', 'dance and electronica', 'jazz and blues', 'soul and reggae', 'punk', 'metal', 'classical', 'pop', 'hip-hop']).plot(ax = ax)"
   ]
  },
  {
   "cell_type": "code",
   "execution_count": null,
   "metadata": {},
   "outputs": [],
   "source": []
  }
 ],
 "metadata": {
  "kernelspec": {
   "display_name": "Python 3",
   "language": "python",
   "name": "python3"
  },
  "language_info": {
   "codemirror_mode": {
    "name": "ipython",
    "version": 3
   },
   "file_extension": ".py",
   "mimetype": "text/x-python",
   "name": "python",
   "nbconvert_exporter": "python",
   "pygments_lexer": "ipython3",
   "version": "3.8.8"
  }
 },
 "nbformat": 4,
 "nbformat_minor": 4
}
