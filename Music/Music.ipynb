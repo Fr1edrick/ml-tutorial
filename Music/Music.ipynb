{
 "cells": [
  {
   "cell_type": "code",
   "execution_count": 1,
   "metadata": {},
   "outputs": [],
   "source": [
    "import pandas as pd\n",
    "\n",
    "import matplotlib.pyplot as plt\n",
    "%matplotlib inline\n",
    "\n",
    "from sklearn.linear_model import LogisticRegression\n",
    "from sklearn.neural_network import MLPClassifier\n",
    "from sklearn.svm import SVC\n",
    "from sklearn.ensemble import RandomForestClassifier\n",
    "\n",
    "from sklearn.metrics import ConfusionMatrixDisplay, precision_score, recall_score, f1_score, confusion_matrix, accuracy_score, roc_auc_score\n",
    "\n",
    "from sklearn.preprocessing import StandardScaler\n",
    "from sklearn.model_selection import train_test_split"
   ]
  },
  {
   "cell_type": "code",
   "execution_count": 2,
   "metadata": {},
   "outputs": [],
   "source": [
    "pd.options.display.max_columns = 100"
   ]
  },
  {
   "cell_type": "markdown",
   "metadata": {},
   "source": [
    "#### Functions for draw confusion matrix and Measures"
   ]
  },
  {
   "cell_type": "code",
   "execution_count": 3,
   "metadata": {},
   "outputs": [],
   "source": [
    "def drawConfusionMatrix(yTest, model, predictions):\n",
    "    cm = confusion_matrix(yTest.astype(int), predictions, labels=model.classes_)\n",
    "    disp = ConfusionMatrixDisplay(confusion_matrix=cm, display_labels=model.classes_)\n",
    "    disp.plot()"
   ]
  },
  {
   "cell_type": "code",
   "execution_count": 28,
   "metadata": {},
   "outputs": [],
   "source": [
    "def printMeasure(yTest, predictions):\n",
    "    print(\"Precision: \", precision_score(yTest, predictions))\n",
    "    print(\"Recall: \", recall_score(yTest, predictions))\n",
    "    print('F1_score: ', f1_score(yTest, predictions))"
   ]
  },
  {
   "cell_type": "markdown",
   "metadata": {},
   "source": [
    "### Reading the dataset"
   ]
  },
  {
   "cell_type": "code",
   "execution_count": 5,
   "metadata": {},
   "outputs": [],
   "source": [
    "music_df = pd.read_csv('./data/msd_genre_dataset.txt')"
   ]
  },
  {
   "cell_type": "code",
   "execution_count": 6,
   "metadata": {},
   "outputs": [
    {
     "data": {
      "text/plain": [
       "(59600, 34)"
      ]
     },
     "execution_count": 6,
     "metadata": {},
     "output_type": "execute_result"
    }
   ],
   "source": [
    "music_df.shape"
   ]
  },
  {
   "cell_type": "code",
   "execution_count": 7,
   "metadata": {},
   "outputs": [
    {
     "data": {
      "text/plain": [
       "genre              object\n",
       "track_id           object\n",
       "artist_name        object\n",
       "title              object\n",
       "loudness          float64\n",
       "tempo             float64\n",
       "time_signature      int64\n",
       "key                 int64\n",
       "mode                int64\n",
       "duration          float64\n",
       "avg_timbre1       float64\n",
       "avg_timbre2       float64\n",
       "avg_timbre3       float64\n",
       "avg_timbre4       float64\n",
       "avg_timbre5       float64\n",
       "avg_timbre6       float64\n",
       "avg_timbre7       float64\n",
       "avg_timbre8       float64\n",
       "avg_timbre9       float64\n",
       "avg_timbre10      float64\n",
       "avg_timbre11      float64\n",
       "avg_timbre12      float64\n",
       "var_timbre1       float64\n",
       "var_timbre2       float64\n",
       "var_timbre3       float64\n",
       "var_timbre4       float64\n",
       "var_timbre5       float64\n",
       "var_timbre6       float64\n",
       "var_timbre7       float64\n",
       "var_timbre8       float64\n",
       "var_timbre9       float64\n",
       "var_timbre10      float64\n",
       "var_timbre11      float64\n",
       "var_timbre12      float64\n",
       "dtype: object"
      ]
     },
     "execution_count": 7,
     "metadata": {},
     "output_type": "execute_result"
    }
   ],
   "source": [
    "music_df.dtypes"
   ]
  },
  {
   "cell_type": "code",
   "execution_count": 8,
   "metadata": {},
   "outputs": [
    {
     "data": {
      "text/html": [
       "<div>\n",
       "<style scoped>\n",
       "    .dataframe tbody tr th:only-of-type {\n",
       "        vertical-align: middle;\n",
       "    }\n",
       "\n",
       "    .dataframe tbody tr th {\n",
       "        vertical-align: top;\n",
       "    }\n",
       "\n",
       "    .dataframe thead th {\n",
       "        text-align: right;\n",
       "    }\n",
       "</style>\n",
       "<table border=\"1\" class=\"dataframe\">\n",
       "  <thead>\n",
       "    <tr style=\"text-align: right;\">\n",
       "      <th></th>\n",
       "      <th>genre</th>\n",
       "      <th>track_id</th>\n",
       "      <th>artist_name</th>\n",
       "      <th>title</th>\n",
       "      <th>loudness</th>\n",
       "      <th>tempo</th>\n",
       "      <th>time_signature</th>\n",
       "      <th>key</th>\n",
       "      <th>mode</th>\n",
       "      <th>duration</th>\n",
       "      <th>avg_timbre1</th>\n",
       "      <th>avg_timbre2</th>\n",
       "      <th>avg_timbre3</th>\n",
       "      <th>avg_timbre4</th>\n",
       "      <th>avg_timbre5</th>\n",
       "      <th>avg_timbre6</th>\n",
       "      <th>avg_timbre7</th>\n",
       "      <th>avg_timbre8</th>\n",
       "      <th>avg_timbre9</th>\n",
       "      <th>avg_timbre10</th>\n",
       "      <th>avg_timbre11</th>\n",
       "      <th>avg_timbre12</th>\n",
       "      <th>var_timbre1</th>\n",
       "      <th>var_timbre2</th>\n",
       "      <th>var_timbre3</th>\n",
       "      <th>var_timbre4</th>\n",
       "      <th>var_timbre5</th>\n",
       "      <th>var_timbre6</th>\n",
       "      <th>var_timbre7</th>\n",
       "      <th>var_timbre8</th>\n",
       "      <th>var_timbre9</th>\n",
       "      <th>var_timbre10</th>\n",
       "      <th>var_timbre11</th>\n",
       "      <th>var_timbre12</th>\n",
       "    </tr>\n",
       "  </thead>\n",
       "  <tbody>\n",
       "    <tr>\n",
       "      <th>0</th>\n",
       "      <td>classic pop and rock</td>\n",
       "      <td>TRFCOOU128F427AEC0</td>\n",
       "      <td>Blue Oyster Cult</td>\n",
       "      <td>Mes Dames Sarat</td>\n",
       "      <td>-8.697</td>\n",
       "      <td>155.007</td>\n",
       "      <td>1</td>\n",
       "      <td>9</td>\n",
       "      <td>1</td>\n",
       "      <td>246.33424</td>\n",
       "      <td>46.673067</td>\n",
       "      <td>14.613684</td>\n",
       "      <td>14.664215</td>\n",
       "      <td>0.176561</td>\n",
       "      <td>-9.346377</td>\n",
       "      <td>-12.341699</td>\n",
       "      <td>11.183382</td>\n",
       "      <td>7.405288</td>\n",
       "      <td>9.313765</td>\n",
       "      <td>3.201169</td>\n",
       "      <td>-0.152734</td>\n",
       "      <td>5.809709</td>\n",
       "      <td>14.930820</td>\n",
       "      <td>802.205948</td>\n",
       "      <td>1255.514569</td>\n",
       "      <td>580.030472</td>\n",
       "      <td>598.485223</td>\n",
       "      <td>575.337671</td>\n",
       "      <td>322.068603</td>\n",
       "      <td>321.726029</td>\n",
       "      <td>232.700609</td>\n",
       "      <td>186.805303</td>\n",
       "      <td>181.938688</td>\n",
       "      <td>151.508011</td>\n",
       "    </tr>\n",
       "    <tr>\n",
       "      <th>1</th>\n",
       "      <td>classic pop and rock</td>\n",
       "      <td>TRNJTPB128F427AE9F</td>\n",
       "      <td>Blue Oyster Cult</td>\n",
       "      <td>Screams</td>\n",
       "      <td>-10.659</td>\n",
       "      <td>148.462</td>\n",
       "      <td>1</td>\n",
       "      <td>4</td>\n",
       "      <td>0</td>\n",
       "      <td>189.80526</td>\n",
       "      <td>43.645377</td>\n",
       "      <td>-87.337150</td>\n",
       "      <td>41.051582</td>\n",
       "      <td>7.814770</td>\n",
       "      <td>-12.989848</td>\n",
       "      <td>-14.253599</td>\n",
       "      <td>6.126045</td>\n",
       "      <td>-2.448662</td>\n",
       "      <td>22.691713</td>\n",
       "      <td>-2.872706</td>\n",
       "      <td>1.427725</td>\n",
       "      <td>-6.710730</td>\n",
       "      <td>22.704843</td>\n",
       "      <td>1561.307072</td>\n",
       "      <td>2007.653070</td>\n",
       "      <td>1043.474073</td>\n",
       "      <td>585.694981</td>\n",
       "      <td>564.013736</td>\n",
       "      <td>510.177022</td>\n",
       "      <td>400.200186</td>\n",
       "      <td>365.119588</td>\n",
       "      <td>238.099708</td>\n",
       "      <td>197.933757</td>\n",
       "      <td>251.577525</td>\n",
       "    </tr>\n",
       "    <tr>\n",
       "      <th>2</th>\n",
       "      <td>classic pop and rock</td>\n",
       "      <td>TRLFJHA128F427AEEA</td>\n",
       "      <td>Blue Oyster Cult</td>\n",
       "      <td>Dance The Night Away</td>\n",
       "      <td>-13.494</td>\n",
       "      <td>112.909</td>\n",
       "      <td>1</td>\n",
       "      <td>10</td>\n",
       "      <td>0</td>\n",
       "      <td>158.19710</td>\n",
       "      <td>37.573538</td>\n",
       "      <td>-61.202030</td>\n",
       "      <td>28.760533</td>\n",
       "      <td>-13.788123</td>\n",
       "      <td>10.062347</td>\n",
       "      <td>-4.872030</td>\n",
       "      <td>-14.090243</td>\n",
       "      <td>5.580175</td>\n",
       "      <td>15.414011</td>\n",
       "      <td>4.556137</td>\n",
       "      <td>-1.877363</td>\n",
       "      <td>20.879475</td>\n",
       "      <td>58.459621</td>\n",
       "      <td>4644.001846</td>\n",
       "      <td>1204.856777</td>\n",
       "      <td>2736.520024</td>\n",
       "      <td>730.233239</td>\n",
       "      <td>665.203452</td>\n",
       "      <td>535.775111</td>\n",
       "      <td>439.335059</td>\n",
       "      <td>486.822970</td>\n",
       "      <td>265.333860</td>\n",
       "      <td>447.097987</td>\n",
       "      <td>251.880724</td>\n",
       "    </tr>\n",
       "    <tr>\n",
       "      <th>3</th>\n",
       "      <td>classic pop and rock</td>\n",
       "      <td>TRCQZAG128F427DB97</td>\n",
       "      <td>Blue Oyster Cult</td>\n",
       "      <td>Debbie Denise</td>\n",
       "      <td>-12.786</td>\n",
       "      <td>117.429</td>\n",
       "      <td>4</td>\n",
       "      <td>7</td>\n",
       "      <td>1</td>\n",
       "      <td>250.22649</td>\n",
       "      <td>42.566615</td>\n",
       "      <td>17.217897</td>\n",
       "      <td>53.484213</td>\n",
       "      <td>1.564362</td>\n",
       "      <td>-8.884632</td>\n",
       "      <td>-13.088890</td>\n",
       "      <td>-9.762620</td>\n",
       "      <td>1.373769</td>\n",
       "      <td>1.092876</td>\n",
       "      <td>1.479490</td>\n",
       "      <td>1.517015</td>\n",
       "      <td>8.562618</td>\n",
       "      <td>22.575460</td>\n",
       "      <td>691.140671</td>\n",
       "      <td>809.755802</td>\n",
       "      <td>563.908070</td>\n",
       "      <td>492.803819</td>\n",
       "      <td>378.382799</td>\n",
       "      <td>372.875044</td>\n",
       "      <td>231.941957</td>\n",
       "      <td>246.313305</td>\n",
       "      <td>168.400152</td>\n",
       "      <td>85.282462</td>\n",
       "      <td>339.897173</td>\n",
       "    </tr>\n",
       "    <tr>\n",
       "      <th>4</th>\n",
       "      <td>classic pop and rock</td>\n",
       "      <td>TRNXMNM128F427DB8C</td>\n",
       "      <td>Blue Oyster Cult</td>\n",
       "      <td>(Don't Fear) The Reaper</td>\n",
       "      <td>-14.093</td>\n",
       "      <td>141.536</td>\n",
       "      <td>4</td>\n",
       "      <td>9</td>\n",
       "      <td>0</td>\n",
       "      <td>307.06893</td>\n",
       "      <td>40.976507</td>\n",
       "      <td>-13.609779</td>\n",
       "      <td>39.566169</td>\n",
       "      <td>-5.602033</td>\n",
       "      <td>-17.754819</td>\n",
       "      <td>-21.833261</td>\n",
       "      <td>-5.600732</td>\n",
       "      <td>2.291770</td>\n",
       "      <td>3.526177</td>\n",
       "      <td>1.535449</td>\n",
       "      <td>2.763958</td>\n",
       "      <td>3.388757</td>\n",
       "      <td>34.294994</td>\n",
       "      <td>1062.180815</td>\n",
       "      <td>1093.684935</td>\n",
       "      <td>343.556047</td>\n",
       "      <td>889.163314</td>\n",
       "      <td>218.111796</td>\n",
       "      <td>304.862864</td>\n",
       "      <td>178.352161</td>\n",
       "      <td>440.478867</td>\n",
       "      <td>142.669283</td>\n",
       "      <td>81.061326</td>\n",
       "      <td>208.355152</td>\n",
       "    </tr>\n",
       "  </tbody>\n",
       "</table>\n",
       "</div>"
      ],
      "text/plain": [
       "                  genre            track_id       artist_name  \\\n",
       "0  classic pop and rock  TRFCOOU128F427AEC0  Blue Oyster Cult   \n",
       "1  classic pop and rock  TRNJTPB128F427AE9F  Blue Oyster Cult   \n",
       "2  classic pop and rock  TRLFJHA128F427AEEA  Blue Oyster Cult   \n",
       "3  classic pop and rock  TRCQZAG128F427DB97  Blue Oyster Cult   \n",
       "4  classic pop and rock  TRNXMNM128F427DB8C  Blue Oyster Cult   \n",
       "\n",
       "                     title  loudness    tempo  time_signature  key  mode  \\\n",
       "0          Mes Dames Sarat    -8.697  155.007               1    9     1   \n",
       "1                  Screams   -10.659  148.462               1    4     0   \n",
       "2     Dance The Night Away   -13.494  112.909               1   10     0   \n",
       "3            Debbie Denise   -12.786  117.429               4    7     1   \n",
       "4  (Don't Fear) The Reaper   -14.093  141.536               4    9     0   \n",
       "\n",
       "    duration  avg_timbre1  avg_timbre2  avg_timbre3  avg_timbre4  avg_timbre5  \\\n",
       "0  246.33424    46.673067    14.613684    14.664215     0.176561    -9.346377   \n",
       "1  189.80526    43.645377   -87.337150    41.051582     7.814770   -12.989848   \n",
       "2  158.19710    37.573538   -61.202030    28.760533   -13.788123    10.062347   \n",
       "3  250.22649    42.566615    17.217897    53.484213     1.564362    -8.884632   \n",
       "4  307.06893    40.976507   -13.609779    39.566169    -5.602033   -17.754819   \n",
       "\n",
       "   avg_timbre6  avg_timbre7  avg_timbre8  avg_timbre9  avg_timbre10  \\\n",
       "0   -12.341699    11.183382     7.405288     9.313765      3.201169   \n",
       "1   -14.253599     6.126045    -2.448662    22.691713     -2.872706   \n",
       "2    -4.872030   -14.090243     5.580175    15.414011      4.556137   \n",
       "3   -13.088890    -9.762620     1.373769     1.092876      1.479490   \n",
       "4   -21.833261    -5.600732     2.291770     3.526177      1.535449   \n",
       "\n",
       "   avg_timbre11  avg_timbre12  var_timbre1  var_timbre2  var_timbre3  \\\n",
       "0     -0.152734      5.809709    14.930820   802.205948  1255.514569   \n",
       "1      1.427725     -6.710730    22.704843  1561.307072  2007.653070   \n",
       "2     -1.877363     20.879475    58.459621  4644.001846  1204.856777   \n",
       "3      1.517015      8.562618    22.575460   691.140671   809.755802   \n",
       "4      2.763958      3.388757    34.294994  1062.180815  1093.684935   \n",
       "\n",
       "   var_timbre4  var_timbre5  var_timbre6  var_timbre7  var_timbre8  \\\n",
       "0   580.030472   598.485223   575.337671   322.068603   321.726029   \n",
       "1  1043.474073   585.694981   564.013736   510.177022   400.200186   \n",
       "2  2736.520024   730.233239   665.203452   535.775111   439.335059   \n",
       "3   563.908070   492.803819   378.382799   372.875044   231.941957   \n",
       "4   343.556047   889.163314   218.111796   304.862864   178.352161   \n",
       "\n",
       "   var_timbre9  var_timbre10  var_timbre11  var_timbre12  \n",
       "0   232.700609    186.805303    181.938688    151.508011  \n",
       "1   365.119588    238.099708    197.933757    251.577525  \n",
       "2   486.822970    265.333860    447.097987    251.880724  \n",
       "3   246.313305    168.400152     85.282462    339.897173  \n",
       "4   440.478867    142.669283     81.061326    208.355152  "
      ]
     },
     "execution_count": 8,
     "metadata": {},
     "output_type": "execute_result"
    }
   ],
   "source": [
    "music_df.head()"
   ]
  },
  {
   "cell_type": "code",
   "execution_count": 9,
   "metadata": {},
   "outputs": [
    {
     "data": {
      "text/plain": [
       "classic pop and rock     0.400923\n",
       "folk                     0.221342\n",
       "dance and electronica    0.082802\n",
       "jazz and blues           0.072718\n",
       "soul and reggae          0.067383\n",
       "punk                     0.053691\n",
       "metal                    0.035285\n",
       "classical                0.031443\n",
       "pop                      0.027131\n",
       "hip-hop                  0.007282\n",
       "Name: genre, dtype: float64"
      ]
     },
     "execution_count": 9,
     "metadata": {},
     "output_type": "execute_result"
    }
   ],
   "source": [
    "music_df['genre'].value_counts(normalize = True)"
   ]
  },
  {
   "cell_type": "code",
   "execution_count": 10,
   "metadata": {},
   "outputs": [],
   "source": [
    "genres = ['jazz and blues', 'soul and reggae']\n",
    "music_df_filter = music_df.loc[music_df['genre'].isin(genres)]"
   ]
  },
  {
   "cell_type": "code",
   "execution_count": 11,
   "metadata": {},
   "outputs": [
    {
     "data": {
      "text/plain": [
       "(8350, 34)"
      ]
     },
     "execution_count": 11,
     "metadata": {},
     "output_type": "execute_result"
    }
   ],
   "source": [
    "music_df_filter.shape"
   ]
  },
  {
   "cell_type": "code",
   "execution_count": 12,
   "metadata": {},
   "outputs": [
    {
     "data": {
      "text/html": [
       "<div>\n",
       "<style scoped>\n",
       "    .dataframe tbody tr th:only-of-type {\n",
       "        vertical-align: middle;\n",
       "    }\n",
       "\n",
       "    .dataframe tbody tr th {\n",
       "        vertical-align: top;\n",
       "    }\n",
       "\n",
       "    .dataframe thead th {\n",
       "        text-align: right;\n",
       "    }\n",
       "</style>\n",
       "<table border=\"1\" class=\"dataframe\">\n",
       "  <thead>\n",
       "    <tr style=\"text-align: right;\">\n",
       "      <th></th>\n",
       "      <th>genre</th>\n",
       "      <th>track_id</th>\n",
       "      <th>artist_name</th>\n",
       "      <th>title</th>\n",
       "      <th>loudness</th>\n",
       "      <th>tempo</th>\n",
       "      <th>time_signature</th>\n",
       "      <th>key</th>\n",
       "      <th>mode</th>\n",
       "      <th>duration</th>\n",
       "      <th>avg_timbre1</th>\n",
       "      <th>avg_timbre2</th>\n",
       "      <th>avg_timbre3</th>\n",
       "      <th>avg_timbre4</th>\n",
       "      <th>avg_timbre5</th>\n",
       "      <th>avg_timbre6</th>\n",
       "      <th>avg_timbre7</th>\n",
       "      <th>avg_timbre8</th>\n",
       "      <th>avg_timbre9</th>\n",
       "      <th>avg_timbre10</th>\n",
       "      <th>avg_timbre11</th>\n",
       "      <th>avg_timbre12</th>\n",
       "      <th>var_timbre1</th>\n",
       "      <th>var_timbre2</th>\n",
       "      <th>var_timbre3</th>\n",
       "      <th>var_timbre4</th>\n",
       "      <th>var_timbre5</th>\n",
       "      <th>var_timbre6</th>\n",
       "      <th>var_timbre7</th>\n",
       "      <th>var_timbre8</th>\n",
       "      <th>var_timbre9</th>\n",
       "      <th>var_timbre10</th>\n",
       "      <th>var_timbre11</th>\n",
       "      <th>var_timbre12</th>\n",
       "    </tr>\n",
       "  </thead>\n",
       "  <tbody>\n",
       "    <tr>\n",
       "      <th>48942</th>\n",
       "      <td>jazz and blues</td>\n",
       "      <td>TRJBLUX12903CE16EC</td>\n",
       "      <td>John Stevens</td>\n",
       "      <td>Mango</td>\n",
       "      <td>-18.996</td>\n",
       "      <td>89.147</td>\n",
       "      <td>1</td>\n",
       "      <td>0</td>\n",
       "      <td>1</td>\n",
       "      <td>256.86159</td>\n",
       "      <td>34.738162</td>\n",
       "      <td>-50.948828</td>\n",
       "      <td>20.177101</td>\n",
       "      <td>15.139567</td>\n",
       "      <td>-25.836751</td>\n",
       "      <td>7.729854</td>\n",
       "      <td>-23.534951</td>\n",
       "      <td>-7.002408</td>\n",
       "      <td>9.661461</td>\n",
       "      <td>-0.752980</td>\n",
       "      <td>6.760097</td>\n",
       "      <td>17.112598</td>\n",
       "      <td>12.473302</td>\n",
       "      <td>1530.622764</td>\n",
       "      <td>1649.321047</td>\n",
       "      <td>1221.638146</td>\n",
       "      <td>501.717892</td>\n",
       "      <td>1091.743641</td>\n",
       "      <td>618.560018</td>\n",
       "      <td>402.236969</td>\n",
       "      <td>309.392602</td>\n",
       "      <td>233.206167</td>\n",
       "      <td>261.850703</td>\n",
       "      <td>240.834177</td>\n",
       "    </tr>\n",
       "    <tr>\n",
       "      <th>48943</th>\n",
       "      <td>jazz and blues</td>\n",
       "      <td>TRDPDLX12903CE16F2</td>\n",
       "      <td>John Stevens</td>\n",
       "      <td>Carnaval</td>\n",
       "      <td>-19.347</td>\n",
       "      <td>125.825</td>\n",
       "      <td>4</td>\n",
       "      <td>2</td>\n",
       "      <td>1</td>\n",
       "      <td>301.87057</td>\n",
       "      <td>34.033346</td>\n",
       "      <td>-39.733083</td>\n",
       "      <td>30.640298</td>\n",
       "      <td>19.646264</td>\n",
       "      <td>-45.231415</td>\n",
       "      <td>9.103613</td>\n",
       "      <td>-19.019581</td>\n",
       "      <td>1.119047</td>\n",
       "      <td>9.169450</td>\n",
       "      <td>3.999394</td>\n",
       "      <td>5.481075</td>\n",
       "      <td>10.958845</td>\n",
       "      <td>11.150600</td>\n",
       "      <td>1385.186042</td>\n",
       "      <td>1670.689893</td>\n",
       "      <td>1339.193474</td>\n",
       "      <td>889.918742</td>\n",
       "      <td>1148.824912</td>\n",
       "      <td>428.976969</td>\n",
       "      <td>306.187624</td>\n",
       "      <td>368.973940</td>\n",
       "      <td>227.275123</td>\n",
       "      <td>261.643570</td>\n",
       "      <td>332.356536</td>\n",
       "    </tr>\n",
       "    <tr>\n",
       "      <th>48944</th>\n",
       "      <td>jazz and blues</td>\n",
       "      <td>TRMWVBM128F42374DA</td>\n",
       "      <td>John Stevens</td>\n",
       "      <td>My Blue Heaven (Album Version)</td>\n",
       "      <td>-9.472</td>\n",
       "      <td>121.707</td>\n",
       "      <td>4</td>\n",
       "      <td>2</td>\n",
       "      <td>1</td>\n",
       "      <td>158.85016</td>\n",
       "      <td>41.794197</td>\n",
       "      <td>-22.133118</td>\n",
       "      <td>3.518487</td>\n",
       "      <td>1.868059</td>\n",
       "      <td>13.542078</td>\n",
       "      <td>6.944006</td>\n",
       "      <td>15.406498</td>\n",
       "      <td>5.469637</td>\n",
       "      <td>4.822017</td>\n",
       "      <td>1.792601</td>\n",
       "      <td>-10.094489</td>\n",
       "      <td>-2.143374</td>\n",
       "      <td>41.497045</td>\n",
       "      <td>4513.995103</td>\n",
       "      <td>2640.398239</td>\n",
       "      <td>3070.791615</td>\n",
       "      <td>1347.758671</td>\n",
       "      <td>1499.491510</td>\n",
       "      <td>1015.076345</td>\n",
       "      <td>897.411739</td>\n",
       "      <td>608.034880</td>\n",
       "      <td>549.493210</td>\n",
       "      <td>481.149049</td>\n",
       "      <td>442.663136</td>\n",
       "    </tr>\n",
       "    <tr>\n",
       "      <th>48945</th>\n",
       "      <td>jazz and blues</td>\n",
       "      <td>TRMLIWL128F42374DE</td>\n",
       "      <td>John Stevens</td>\n",
       "      <td>Here_ There And Everywhere (Album Version)</td>\n",
       "      <td>-14.406</td>\n",
       "      <td>83.012</td>\n",
       "      <td>5</td>\n",
       "      <td>0</td>\n",
       "      <td>1</td>\n",
       "      <td>181.26322</td>\n",
       "      <td>38.637530</td>\n",
       "      <td>-64.807191</td>\n",
       "      <td>-21.920418</td>\n",
       "      <td>-25.058971</td>\n",
       "      <td>-2.520459</td>\n",
       "      <td>-11.979187</td>\n",
       "      <td>-4.021518</td>\n",
       "      <td>-4.502840</td>\n",
       "      <td>1.350948</td>\n",
       "      <td>-6.206154</td>\n",
       "      <td>-2.557249</td>\n",
       "      <td>1.841054</td>\n",
       "      <td>26.279428</td>\n",
       "      <td>2304.536939</td>\n",
       "      <td>1187.644248</td>\n",
       "      <td>1311.170435</td>\n",
       "      <td>809.621938</td>\n",
       "      <td>612.699944</td>\n",
       "      <td>492.734025</td>\n",
       "      <td>525.801667</td>\n",
       "      <td>585.984445</td>\n",
       "      <td>278.578591</td>\n",
       "      <td>250.545027</td>\n",
       "      <td>348.842236</td>\n",
       "    </tr>\n",
       "    <tr>\n",
       "      <th>48946</th>\n",
       "      <td>jazz and blues</td>\n",
       "      <td>TRGFUVB128F42374E1</td>\n",
       "      <td>John Stevens</td>\n",
       "      <td>This Love (Album Version)</td>\n",
       "      <td>-9.289</td>\n",
       "      <td>76.013</td>\n",
       "      <td>4</td>\n",
       "      <td>7</td>\n",
       "      <td>0</td>\n",
       "      <td>248.89424</td>\n",
       "      <td>43.089845</td>\n",
       "      <td>-27.351674</td>\n",
       "      <td>14.205832</td>\n",
       "      <td>-6.941388</td>\n",
       "      <td>21.278516</td>\n",
       "      <td>-9.627968</td>\n",
       "      <td>-6.894824</td>\n",
       "      <td>-2.730303</td>\n",
       "      <td>2.003291</td>\n",
       "      <td>-2.030266</td>\n",
       "      <td>-0.764775</td>\n",
       "      <td>1.769443</td>\n",
       "      <td>37.786419</td>\n",
       "      <td>3726.684916</td>\n",
       "      <td>1164.272074</td>\n",
       "      <td>1536.674490</td>\n",
       "      <td>1167.316436</td>\n",
       "      <td>580.604008</td>\n",
       "      <td>498.168561</td>\n",
       "      <td>607.747214</td>\n",
       "      <td>367.191519</td>\n",
       "      <td>403.532772</td>\n",
       "      <td>262.670577</td>\n",
       "      <td>272.634634</td>\n",
       "    </tr>\n",
       "  </tbody>\n",
       "</table>\n",
       "</div>"
      ],
      "text/plain": [
       "                genre            track_id   artist_name  \\\n",
       "48942  jazz and blues  TRJBLUX12903CE16EC  John Stevens   \n",
       "48943  jazz and blues  TRDPDLX12903CE16F2  John Stevens   \n",
       "48944  jazz and blues  TRMWVBM128F42374DA  John Stevens   \n",
       "48945  jazz and blues  TRMLIWL128F42374DE  John Stevens   \n",
       "48946  jazz and blues  TRGFUVB128F42374E1  John Stevens   \n",
       "\n",
       "                                            title  loudness    tempo  \\\n",
       "48942                                       Mango   -18.996   89.147   \n",
       "48943                                    Carnaval   -19.347  125.825   \n",
       "48944              My Blue Heaven (Album Version)    -9.472  121.707   \n",
       "48945  Here_ There And Everywhere (Album Version)   -14.406   83.012   \n",
       "48946                   This Love (Album Version)    -9.289   76.013   \n",
       "\n",
       "       time_signature  key  mode   duration  avg_timbre1  avg_timbre2  \\\n",
       "48942               1    0     1  256.86159    34.738162   -50.948828   \n",
       "48943               4    2     1  301.87057    34.033346   -39.733083   \n",
       "48944               4    2     1  158.85016    41.794197   -22.133118   \n",
       "48945               5    0     1  181.26322    38.637530   -64.807191   \n",
       "48946               4    7     0  248.89424    43.089845   -27.351674   \n",
       "\n",
       "       avg_timbre3  avg_timbre4  avg_timbre5  avg_timbre6  avg_timbre7  \\\n",
       "48942    20.177101    15.139567   -25.836751     7.729854   -23.534951   \n",
       "48943    30.640298    19.646264   -45.231415     9.103613   -19.019581   \n",
       "48944     3.518487     1.868059    13.542078     6.944006    15.406498   \n",
       "48945   -21.920418   -25.058971    -2.520459   -11.979187    -4.021518   \n",
       "48946    14.205832    -6.941388    21.278516    -9.627968    -6.894824   \n",
       "\n",
       "       avg_timbre8  avg_timbre9  avg_timbre10  avg_timbre11  avg_timbre12  \\\n",
       "48942    -7.002408     9.661461     -0.752980      6.760097     17.112598   \n",
       "48943     1.119047     9.169450      3.999394      5.481075     10.958845   \n",
       "48944     5.469637     4.822017      1.792601    -10.094489     -2.143374   \n",
       "48945    -4.502840     1.350948     -6.206154     -2.557249      1.841054   \n",
       "48946    -2.730303     2.003291     -2.030266     -0.764775      1.769443   \n",
       "\n",
       "       var_timbre1  var_timbre2  var_timbre3  var_timbre4  var_timbre5  \\\n",
       "48942    12.473302  1530.622764  1649.321047  1221.638146   501.717892   \n",
       "48943    11.150600  1385.186042  1670.689893  1339.193474   889.918742   \n",
       "48944    41.497045  4513.995103  2640.398239  3070.791615  1347.758671   \n",
       "48945    26.279428  2304.536939  1187.644248  1311.170435   809.621938   \n",
       "48946    37.786419  3726.684916  1164.272074  1536.674490  1167.316436   \n",
       "\n",
       "       var_timbre6  var_timbre7  var_timbre8  var_timbre9  var_timbre10  \\\n",
       "48942  1091.743641   618.560018   402.236969   309.392602    233.206167   \n",
       "48943  1148.824912   428.976969   306.187624   368.973940    227.275123   \n",
       "48944  1499.491510  1015.076345   897.411739   608.034880    549.493210   \n",
       "48945   612.699944   492.734025   525.801667   585.984445    278.578591   \n",
       "48946   580.604008   498.168561   607.747214   367.191519    403.532772   \n",
       "\n",
       "       var_timbre11  var_timbre12  \n",
       "48942    261.850703    240.834177  \n",
       "48943    261.643570    332.356536  \n",
       "48944    481.149049    442.663136  \n",
       "48945    250.545027    348.842236  \n",
       "48946    262.670577    272.634634  "
      ]
     },
     "execution_count": 12,
     "metadata": {},
     "output_type": "execute_result"
    }
   ],
   "source": [
    "music_df_filter.head()"
   ]
  },
  {
   "cell_type": "code",
   "execution_count": 29,
   "metadata": {},
   "outputs": [
    {
     "name": "stderr",
     "output_type": "stream",
     "text": [
      "C:\\ProgramData\\Anaconda3\\lib\\site-packages\\pandas\\core\\series.py:4509: SettingWithCopyWarning: \n",
      "A value is trying to be set on a copy of a slice from a DataFrame\n",
      "\n",
      "See the caveats in the documentation: https://pandas.pydata.org/pandas-docs/stable/user_guide/indexing.html#returning-a-view-versus-a-copy\n",
      "  return super().replace(\n"
     ]
    }
   ],
   "source": [
    "music_df_filter['genre'].replace({\"jazz and blues\" : 0, \"soul and reggae\" : 1}, inplace=True)\n",
    "# NO FUNCIONÓ\n",
    "#music_df_filter.loc[(music_df_filter.genre == 'jazz and blues'), 'genre'] = 0\n",
    "#usic_df_filter.loc[(music_df_filter.genre == 'soul and reggae'), 'genre'] = 1"
   ]
  },
  {
   "cell_type": "code",
   "execution_count": 30,
   "metadata": {},
   "outputs": [
    {
     "name": "stdout",
     "output_type": "stream",
     "text": [
      "Cantidades:\n",
      " 0    4334\n",
      "1    4016\n",
      "Name: genre, dtype: int64\n"
     ]
    },
    {
     "data": {
      "text/html": [
       "<div>\n",
       "<style scoped>\n",
       "    .dataframe tbody tr th:only-of-type {\n",
       "        vertical-align: middle;\n",
       "    }\n",
       "\n",
       "    .dataframe tbody tr th {\n",
       "        vertical-align: top;\n",
       "    }\n",
       "\n",
       "    .dataframe thead th {\n",
       "        text-align: right;\n",
       "    }\n",
       "</style>\n",
       "<table border=\"1\" class=\"dataframe\">\n",
       "  <thead>\n",
       "    <tr style=\"text-align: right;\">\n",
       "      <th></th>\n",
       "      <th>genre</th>\n",
       "      <th>track_id</th>\n",
       "      <th>artist_name</th>\n",
       "      <th>title</th>\n",
       "      <th>loudness</th>\n",
       "      <th>tempo</th>\n",
       "      <th>time_signature</th>\n",
       "      <th>key</th>\n",
       "      <th>mode</th>\n",
       "      <th>duration</th>\n",
       "      <th>avg_timbre1</th>\n",
       "      <th>avg_timbre2</th>\n",
       "      <th>avg_timbre3</th>\n",
       "      <th>avg_timbre4</th>\n",
       "      <th>avg_timbre5</th>\n",
       "      <th>avg_timbre6</th>\n",
       "      <th>avg_timbre7</th>\n",
       "      <th>avg_timbre8</th>\n",
       "      <th>avg_timbre9</th>\n",
       "      <th>avg_timbre10</th>\n",
       "      <th>avg_timbre11</th>\n",
       "      <th>avg_timbre12</th>\n",
       "      <th>var_timbre1</th>\n",
       "      <th>var_timbre2</th>\n",
       "      <th>var_timbre3</th>\n",
       "      <th>var_timbre4</th>\n",
       "      <th>var_timbre5</th>\n",
       "      <th>var_timbre6</th>\n",
       "      <th>var_timbre7</th>\n",
       "      <th>var_timbre8</th>\n",
       "      <th>var_timbre9</th>\n",
       "      <th>var_timbre10</th>\n",
       "      <th>var_timbre11</th>\n",
       "      <th>var_timbre12</th>\n",
       "    </tr>\n",
       "  </thead>\n",
       "  <tbody>\n",
       "    <tr>\n",
       "      <th>48942</th>\n",
       "      <td>0</td>\n",
       "      <td>TRJBLUX12903CE16EC</td>\n",
       "      <td>John Stevens</td>\n",
       "      <td>Mango</td>\n",
       "      <td>-18.996</td>\n",
       "      <td>89.147</td>\n",
       "      <td>1</td>\n",
       "      <td>0</td>\n",
       "      <td>1</td>\n",
       "      <td>256.86159</td>\n",
       "      <td>34.738162</td>\n",
       "      <td>-50.948828</td>\n",
       "      <td>20.177101</td>\n",
       "      <td>15.139567</td>\n",
       "      <td>-25.836751</td>\n",
       "      <td>7.729854</td>\n",
       "      <td>-23.534951</td>\n",
       "      <td>-7.002408</td>\n",
       "      <td>9.661461</td>\n",
       "      <td>-0.752980</td>\n",
       "      <td>6.760097</td>\n",
       "      <td>17.112598</td>\n",
       "      <td>12.473302</td>\n",
       "      <td>1530.622764</td>\n",
       "      <td>1649.321047</td>\n",
       "      <td>1221.638146</td>\n",
       "      <td>501.717892</td>\n",
       "      <td>1091.743641</td>\n",
       "      <td>618.560018</td>\n",
       "      <td>402.236969</td>\n",
       "      <td>309.392602</td>\n",
       "      <td>233.206167</td>\n",
       "      <td>261.850703</td>\n",
       "      <td>240.834177</td>\n",
       "    </tr>\n",
       "    <tr>\n",
       "      <th>48943</th>\n",
       "      <td>0</td>\n",
       "      <td>TRDPDLX12903CE16F2</td>\n",
       "      <td>John Stevens</td>\n",
       "      <td>Carnaval</td>\n",
       "      <td>-19.347</td>\n",
       "      <td>125.825</td>\n",
       "      <td>4</td>\n",
       "      <td>2</td>\n",
       "      <td>1</td>\n",
       "      <td>301.87057</td>\n",
       "      <td>34.033346</td>\n",
       "      <td>-39.733083</td>\n",
       "      <td>30.640298</td>\n",
       "      <td>19.646264</td>\n",
       "      <td>-45.231415</td>\n",
       "      <td>9.103613</td>\n",
       "      <td>-19.019581</td>\n",
       "      <td>1.119047</td>\n",
       "      <td>9.169450</td>\n",
       "      <td>3.999394</td>\n",
       "      <td>5.481075</td>\n",
       "      <td>10.958845</td>\n",
       "      <td>11.150600</td>\n",
       "      <td>1385.186042</td>\n",
       "      <td>1670.689893</td>\n",
       "      <td>1339.193474</td>\n",
       "      <td>889.918742</td>\n",
       "      <td>1148.824912</td>\n",
       "      <td>428.976969</td>\n",
       "      <td>306.187624</td>\n",
       "      <td>368.973940</td>\n",
       "      <td>227.275123</td>\n",
       "      <td>261.643570</td>\n",
       "      <td>332.356536</td>\n",
       "    </tr>\n",
       "    <tr>\n",
       "      <th>48944</th>\n",
       "      <td>0</td>\n",
       "      <td>TRMWVBM128F42374DA</td>\n",
       "      <td>John Stevens</td>\n",
       "      <td>My Blue Heaven (Album Version)</td>\n",
       "      <td>-9.472</td>\n",
       "      <td>121.707</td>\n",
       "      <td>4</td>\n",
       "      <td>2</td>\n",
       "      <td>1</td>\n",
       "      <td>158.85016</td>\n",
       "      <td>41.794197</td>\n",
       "      <td>-22.133118</td>\n",
       "      <td>3.518487</td>\n",
       "      <td>1.868059</td>\n",
       "      <td>13.542078</td>\n",
       "      <td>6.944006</td>\n",
       "      <td>15.406498</td>\n",
       "      <td>5.469637</td>\n",
       "      <td>4.822017</td>\n",
       "      <td>1.792601</td>\n",
       "      <td>-10.094489</td>\n",
       "      <td>-2.143374</td>\n",
       "      <td>41.497045</td>\n",
       "      <td>4513.995103</td>\n",
       "      <td>2640.398239</td>\n",
       "      <td>3070.791615</td>\n",
       "      <td>1347.758671</td>\n",
       "      <td>1499.491510</td>\n",
       "      <td>1015.076345</td>\n",
       "      <td>897.411739</td>\n",
       "      <td>608.034880</td>\n",
       "      <td>549.493210</td>\n",
       "      <td>481.149049</td>\n",
       "      <td>442.663136</td>\n",
       "    </tr>\n",
       "    <tr>\n",
       "      <th>48945</th>\n",
       "      <td>0</td>\n",
       "      <td>TRMLIWL128F42374DE</td>\n",
       "      <td>John Stevens</td>\n",
       "      <td>Here_ There And Everywhere (Album Version)</td>\n",
       "      <td>-14.406</td>\n",
       "      <td>83.012</td>\n",
       "      <td>5</td>\n",
       "      <td>0</td>\n",
       "      <td>1</td>\n",
       "      <td>181.26322</td>\n",
       "      <td>38.637530</td>\n",
       "      <td>-64.807191</td>\n",
       "      <td>-21.920418</td>\n",
       "      <td>-25.058971</td>\n",
       "      <td>-2.520459</td>\n",
       "      <td>-11.979187</td>\n",
       "      <td>-4.021518</td>\n",
       "      <td>-4.502840</td>\n",
       "      <td>1.350948</td>\n",
       "      <td>-6.206154</td>\n",
       "      <td>-2.557249</td>\n",
       "      <td>1.841054</td>\n",
       "      <td>26.279428</td>\n",
       "      <td>2304.536939</td>\n",
       "      <td>1187.644248</td>\n",
       "      <td>1311.170435</td>\n",
       "      <td>809.621938</td>\n",
       "      <td>612.699944</td>\n",
       "      <td>492.734025</td>\n",
       "      <td>525.801667</td>\n",
       "      <td>585.984445</td>\n",
       "      <td>278.578591</td>\n",
       "      <td>250.545027</td>\n",
       "      <td>348.842236</td>\n",
       "    </tr>\n",
       "    <tr>\n",
       "      <th>48946</th>\n",
       "      <td>0</td>\n",
       "      <td>TRGFUVB128F42374E1</td>\n",
       "      <td>John Stevens</td>\n",
       "      <td>This Love (Album Version)</td>\n",
       "      <td>-9.289</td>\n",
       "      <td>76.013</td>\n",
       "      <td>4</td>\n",
       "      <td>7</td>\n",
       "      <td>0</td>\n",
       "      <td>248.89424</td>\n",
       "      <td>43.089845</td>\n",
       "      <td>-27.351674</td>\n",
       "      <td>14.205832</td>\n",
       "      <td>-6.941388</td>\n",
       "      <td>21.278516</td>\n",
       "      <td>-9.627968</td>\n",
       "      <td>-6.894824</td>\n",
       "      <td>-2.730303</td>\n",
       "      <td>2.003291</td>\n",
       "      <td>-2.030266</td>\n",
       "      <td>-0.764775</td>\n",
       "      <td>1.769443</td>\n",
       "      <td>37.786419</td>\n",
       "      <td>3726.684916</td>\n",
       "      <td>1164.272074</td>\n",
       "      <td>1536.674490</td>\n",
       "      <td>1167.316436</td>\n",
       "      <td>580.604008</td>\n",
       "      <td>498.168561</td>\n",
       "      <td>607.747214</td>\n",
       "      <td>367.191519</td>\n",
       "      <td>403.532772</td>\n",
       "      <td>262.670577</td>\n",
       "      <td>272.634634</td>\n",
       "    </tr>\n",
       "  </tbody>\n",
       "</table>\n",
       "</div>"
      ],
      "text/plain": [
       "       genre            track_id   artist_name  \\\n",
       "48942      0  TRJBLUX12903CE16EC  John Stevens   \n",
       "48943      0  TRDPDLX12903CE16F2  John Stevens   \n",
       "48944      0  TRMWVBM128F42374DA  John Stevens   \n",
       "48945      0  TRMLIWL128F42374DE  John Stevens   \n",
       "48946      0  TRGFUVB128F42374E1  John Stevens   \n",
       "\n",
       "                                            title  loudness    tempo  \\\n",
       "48942                                       Mango   -18.996   89.147   \n",
       "48943                                    Carnaval   -19.347  125.825   \n",
       "48944              My Blue Heaven (Album Version)    -9.472  121.707   \n",
       "48945  Here_ There And Everywhere (Album Version)   -14.406   83.012   \n",
       "48946                   This Love (Album Version)    -9.289   76.013   \n",
       "\n",
       "       time_signature  key  mode   duration  avg_timbre1  avg_timbre2  \\\n",
       "48942               1    0     1  256.86159    34.738162   -50.948828   \n",
       "48943               4    2     1  301.87057    34.033346   -39.733083   \n",
       "48944               4    2     1  158.85016    41.794197   -22.133118   \n",
       "48945               5    0     1  181.26322    38.637530   -64.807191   \n",
       "48946               4    7     0  248.89424    43.089845   -27.351674   \n",
       "\n",
       "       avg_timbre3  avg_timbre4  avg_timbre5  avg_timbre6  avg_timbre7  \\\n",
       "48942    20.177101    15.139567   -25.836751     7.729854   -23.534951   \n",
       "48943    30.640298    19.646264   -45.231415     9.103613   -19.019581   \n",
       "48944     3.518487     1.868059    13.542078     6.944006    15.406498   \n",
       "48945   -21.920418   -25.058971    -2.520459   -11.979187    -4.021518   \n",
       "48946    14.205832    -6.941388    21.278516    -9.627968    -6.894824   \n",
       "\n",
       "       avg_timbre8  avg_timbre9  avg_timbre10  avg_timbre11  avg_timbre12  \\\n",
       "48942    -7.002408     9.661461     -0.752980      6.760097     17.112598   \n",
       "48943     1.119047     9.169450      3.999394      5.481075     10.958845   \n",
       "48944     5.469637     4.822017      1.792601    -10.094489     -2.143374   \n",
       "48945    -4.502840     1.350948     -6.206154     -2.557249      1.841054   \n",
       "48946    -2.730303     2.003291     -2.030266     -0.764775      1.769443   \n",
       "\n",
       "       var_timbre1  var_timbre2  var_timbre3  var_timbre4  var_timbre5  \\\n",
       "48942    12.473302  1530.622764  1649.321047  1221.638146   501.717892   \n",
       "48943    11.150600  1385.186042  1670.689893  1339.193474   889.918742   \n",
       "48944    41.497045  4513.995103  2640.398239  3070.791615  1347.758671   \n",
       "48945    26.279428  2304.536939  1187.644248  1311.170435   809.621938   \n",
       "48946    37.786419  3726.684916  1164.272074  1536.674490  1167.316436   \n",
       "\n",
       "       var_timbre6  var_timbre7  var_timbre8  var_timbre9  var_timbre10  \\\n",
       "48942  1091.743641   618.560018   402.236969   309.392602    233.206167   \n",
       "48943  1148.824912   428.976969   306.187624   368.973940    227.275123   \n",
       "48944  1499.491510  1015.076345   897.411739   608.034880    549.493210   \n",
       "48945   612.699944   492.734025   525.801667   585.984445    278.578591   \n",
       "48946   580.604008   498.168561   607.747214   367.191519    403.532772   \n",
       "\n",
       "       var_timbre11  var_timbre12  \n",
       "48942    261.850703    240.834177  \n",
       "48943    261.643570    332.356536  \n",
       "48944    481.149049    442.663136  \n",
       "48945    250.545027    348.842236  \n",
       "48946    262.670577    272.634634  "
      ]
     },
     "execution_count": 30,
     "metadata": {},
     "output_type": "execute_result"
    }
   ],
   "source": [
    "# Prueba con el ajuste\n",
    "print('Cantidades:\\n',music_df_filter.genre.value_counts())\n",
    "#print(music_df_filter.dtypes)\n",
    "music_df_filter.head()"
   ]
  },
  {
   "cell_type": "code",
   "execution_count": 31,
   "metadata": {},
   "outputs": [
    {
     "data": {
      "text/plain": [
       "0    0.519042\n",
       "1    0.480958\n",
       "Name: genre, dtype: float64"
      ]
     },
     "execution_count": 31,
     "metadata": {},
     "output_type": "execute_result"
    }
   ],
   "source": [
    "music_df_filter['genre'].value_counts(normalize = True)"
   ]
  },
  {
   "cell_type": "markdown",
   "metadata": {},
   "source": [
    "### Splitting train and test datasets"
   ]
  },
  {
   "cell_type": "code",
   "execution_count": 32,
   "metadata": {},
   "outputs": [],
   "source": [
    "X = music_df_filter[music_df_filter.columns.tolist()[4:]]"
   ]
  },
  {
   "cell_type": "code",
   "execution_count": 33,
   "metadata": {},
   "outputs": [],
   "source": [
    "Y = music_df_filter['genre']"
   ]
  },
  {
   "cell_type": "code",
   "execution_count": 34,
   "metadata": {},
   "outputs": [],
   "source": [
    "X_train, X_test, Y_train, Y_test = train_test_split(X, Y, test_size = 0.3, stratify = Y)"
   ]
  },
  {
   "cell_type": "code",
   "execution_count": 35,
   "metadata": {},
   "outputs": [
    {
     "data": {
      "text/plain": [
       "0    0.519076\n",
       "1    0.480924\n",
       "Name: genre, dtype: float64"
      ]
     },
     "execution_count": 35,
     "metadata": {},
     "output_type": "execute_result"
    }
   ],
   "source": [
    "pd.Series(Y_train).value_counts(normalize = True)"
   ]
  },
  {
   "cell_type": "code",
   "execution_count": 36,
   "metadata": {},
   "outputs": [
    {
     "data": {
      "text/plain": [
       "0    0.518962\n",
       "1    0.481038\n",
       "Name: genre, dtype: float64"
      ]
     },
     "execution_count": 36,
     "metadata": {},
     "output_type": "execute_result"
    }
   ],
   "source": [
    "pd.Series(Y_test).value_counts(normalize = True)"
   ]
  },
  {
   "cell_type": "markdown",
   "metadata": {},
   "source": [
    "### Preprocessing feature matrix"
   ]
  },
  {
   "cell_type": "code",
   "execution_count": 37,
   "metadata": {},
   "outputs": [],
   "source": [
    "scaler = StandardScaler()\n",
    "X_train = scaler.fit_transform(X_train)"
   ]
  },
  {
   "cell_type": "code",
   "execution_count": 38,
   "metadata": {},
   "outputs": [],
   "source": [
    "X_test = scaler.transform(X_test)"
   ]
  },
  {
   "cell_type": "markdown",
   "metadata": {},
   "source": [
    "### Training a Logistic Regression model"
   ]
  },
  {
   "cell_type": "code",
   "execution_count": 39,
   "metadata": {},
   "outputs": [],
   "source": [
    "logmodel = LogisticRegression()"
   ]
  },
  {
   "cell_type": "code",
   "execution_count": 40,
   "metadata": {},
   "outputs": [
    {
     "data": {
      "text/plain": [
       "LogisticRegression()"
      ]
     },
     "execution_count": 40,
     "metadata": {},
     "output_type": "execute_result"
    }
   ],
   "source": [
    "logmodel.fit(X_train, Y_train.astype(int))"
   ]
  },
  {
   "cell_type": "code",
   "execution_count": 41,
   "metadata": {},
   "outputs": [],
   "source": [
    "logmodel_predictions = logmodel.predict(X_test)"
   ]
  },
  {
   "cell_type": "code",
   "execution_count": null,
   "metadata": {},
   "outputs": [],
   "source": [
    "# NO FUNCIONÓ\n",
    "ConfusionMatrixDisplay.from_predictions(Y_test.astype(int), logmodel_predictions)"
   ]
  },
  {
   "cell_type": "code",
   "execution_count": 45,
   "metadata": {},
   "outputs": [
    {
     "data": {
      "image/png": "[encoded data removed]",
      "text/plain": [
       "<Figure size 432x288 with 2 Axes>"
      ]
     },
     "metadata": {
      "needs_background": "light"
     },
     "output_type": "display_data"
    }
   ],
   "source": [
    "drawConfusionMatrix(Y_test, logmodel, logmodel_predictions)"
   ]
  },
  {
   "cell_type": "code",
   "execution_count": 46,
   "metadata": {},
   "outputs": [
    {
     "name": "stdout",
     "output_type": "stream",
     "text": [
      "Precision:  0.8223844282238443\n",
      "Recall:  0.84149377593361\n",
      "F1_score:  0.8318293683347007\n"
     ]
    }
   ],
   "source": [
    "printMeasure(Y_test, logmodel_predictions)"
   ]
  },
  {
   "cell_type": "markdown",
   "metadata": {},
   "source": [
    "### Training a Neural Networks model"
   ]
  },
  {
   "cell_type": "code",
   "execution_count": 47,
   "metadata": {},
   "outputs": [],
   "source": [
    "neuralmodel = MLPClassifier()"
   ]
  },
  {
   "cell_type": "code",
   "execution_count": 48,
   "metadata": {},
   "outputs": [
    {
     "name": "stderr",
     "output_type": "stream",
     "text": [
      "C:\\ProgramData\\Anaconda3\\lib\\site-packages\\sklearn\\neural_network\\_multilayer_perceptron.py:614: ConvergenceWarning: Stochastic Optimizer: Maximum iterations (200) reached and the optimization hasn't converged yet.\n",
      "  warnings.warn(\n"
     ]
    },
    {
     "data": {
      "text/plain": [
       "MLPClassifier()"
      ]
     },
     "execution_count": 48,
     "metadata": {},
     "output_type": "execute_result"
    }
   ],
   "source": [
    "neuralmodel.fit(X_train, Y_train.astype(int))"
   ]
  },
  {
   "cell_type": "code",
   "execution_count": 49,
   "metadata": {},
   "outputs": [],
   "source": [
    "neuralmodel_predictions = neuralmodel.predict(X_test)"
   ]
  },
  {
   "cell_type": "code",
   "execution_count": null,
   "metadata": {
    "scrolled": true,
    "tags": []
   },
   "outputs": [],
   "source": [
    "# NO FUNCIONÓ\n",
    "ConfusionMatrixDisplay.from_predictions(Y_test.astype(int), neuralmodel_predictions)"
   ]
  },
  {
   "cell_type": "code",
   "execution_count": 50,
   "metadata": {},
   "outputs": [
    {
     "data": {
      "image/png": "[encoded data removed]",
      "text/plain": [
       "<Figure size 432x288 with 2 Axes>"
      ]
     },
     "metadata": {
      "needs_background": "light"
     },
     "output_type": "display_data"
    }
   ],
   "source": [
    "drawConfusionMatrix(Y_test, neuralmodel, neuralmodel_predictions)"
   ]
  },
  {
   "cell_type": "code",
   "execution_count": 51,
   "metadata": {},
   "outputs": [
    {
     "name": "stdout",
     "output_type": "stream",
     "text": [
      "Precision:  0.8546655656482246\n",
      "Recall:  0.8589211618257261\n",
      "F1_score:  0.8567880794701986\n"
     ]
    }
   ],
   "source": [
    "printMeasure(Y_test, neuralmodel_predictions)"
   ]
  },
  {
   "cell_type": "markdown",
   "metadata": {},
   "source": [
    "### Training a Support Vector Machines model"
   ]
  },
  {
   "cell_type": "code",
   "execution_count": 52,
   "metadata": {},
   "outputs": [],
   "source": [
    "svmmodel = SVC()"
   ]
  },
  {
   "cell_type": "code",
   "execution_count": 53,
   "metadata": {},
   "outputs": [
    {
     "data": {
      "text/plain": [
       "SVC()"
      ]
     },
     "execution_count": 53,
     "metadata": {},
     "output_type": "execute_result"
    }
   ],
   "source": [
    "svmmodel.fit(X_train,Y_train.astype(int))"
   ]
  },
  {
   "cell_type": "code",
   "execution_count": 54,
   "metadata": {},
   "outputs": [],
   "source": [
    "svmmodel_predictions = svmmodel.predict(X_test)"
   ]
  },
  {
   "cell_type": "code",
   "execution_count": 55,
   "metadata": {},
   "outputs": [
    {
     "data": {
      "image/png": "[encoded data removed]",
      "text/plain": [
       "<Figure size 432x288 with 2 Axes>"
      ]
     },
     "metadata": {
      "needs_background": "light"
     },
     "output_type": "display_data"
    }
   ],
   "source": [
    "drawConfusionMatrix(Y_test, svmmodel, svmmodel_predictions)"
   ]
  },
  {
   "cell_type": "code",
   "execution_count": null,
   "metadata": {},
   "outputs": [],
   "source": [
    "#NO FUNCIONÓ\n",
    "ConfusionMatrixDisplay.from_predictions(Y_test.astype(int), svmmodel_predictions)"
   ]
  },
  {
   "cell_type": "code",
   "execution_count": 56,
   "metadata": {},
   "outputs": [
    {
     "name": "stdout",
     "output_type": "stream",
     "text": [
      "Precision:  0.8542178542178542\n",
      "Recall:  0.8655601659751038\n",
      "F1_score:  0.8598516075845013\n"
     ]
    }
   ],
   "source": [
    "printMeasure(Y_test, svmmodel_predictions)"
   ]
  },
  {
   "cell_type": "markdown",
   "metadata": {},
   "source": [
    "### Training a Random Forest model"
   ]
  },
  {
   "cell_type": "code",
   "execution_count": 57,
   "metadata": {},
   "outputs": [],
   "source": [
    "#create clasiffier\n",
    "clf = RandomForestClassifier(n_estimators=100)"
   ]
  },
  {
   "cell_type": "code",
   "execution_count": 58,
   "metadata": {},
   "outputs": [
    {
     "data": {
      "text/plain": [
       "RandomForestClassifier()"
      ]
     },
     "execution_count": 58,
     "metadata": {},
     "output_type": "execute_result"
    }
   ],
   "source": [
    "clf.fit(X_train, Y_train.astype(int))"
   ]
  },
  {
   "cell_type": "code",
   "execution_count": 59,
   "metadata": {},
   "outputs": [],
   "source": [
    "clf_predictions = clf.predict(X_test)"
   ]
  },
  {
   "cell_type": "code",
   "execution_count": 60,
   "metadata": {},
   "outputs": [
    {
     "data": {
      "image/png": "[encoded data removed]",
      "text/plain": [
       "<Figure size 432x288 with 2 Axes>"
      ]
     },
     "metadata": {
      "needs_background": "light"
     },
     "output_type": "display_data"
    }
   ],
   "source": [
    "drawConfusionMatrix(Y_test, clf, clf_predictions)"
   ]
  },
  {
   "cell_type": "code",
   "execution_count": 61,
   "metadata": {},
   "outputs": [
    {
     "name": "stdout",
     "output_type": "stream",
     "text": [
      "Precision:  0.8655601659751038\n",
      "Recall:  0.8655601659751038\n",
      "F1_score:  0.8655601659751038\n"
     ]
    }
   ],
   "source": [
    "printMeasure(Y_test,clf_predictions)"
   ]
  },
  {
   "cell_type": "markdown",
   "metadata": {},
   "source": [
    "## Segundo entrenamiento"
   ]
  },
  {
   "cell_type": "markdown",
   "metadata": {},
   "source": [
    "### Training a Neural Networds model"
   ]
  },
  {
   "cell_type": "markdown",
   "metadata": {},
   "source": [
    "### Read the dataset"
   ]
  },
  {
   "cell_type": "code",
   "execution_count": 75,
   "metadata": {},
   "outputs": [
    {
     "data": {
      "text/html": [
       "<div>\n",
       "<style scoped>\n",
       "    .dataframe tbody tr th:only-of-type {\n",
       "        vertical-align: middle;\n",
       "    }\n",
       "\n",
       "    .dataframe tbody tr th {\n",
       "        vertical-align: top;\n",
       "    }\n",
       "\n",
       "    .dataframe thead th {\n",
       "        text-align: right;\n",
       "    }\n",
       "</style>\n",
       "<table border=\"1\" class=\"dataframe\">\n",
       "  <thead>\n",
       "    <tr style=\"text-align: right;\">\n",
       "      <th></th>\n",
       "      <th>genre</th>\n",
       "      <th>track_id</th>\n",
       "      <th>artist_name</th>\n",
       "      <th>title</th>\n",
       "      <th>loudness</th>\n",
       "      <th>tempo</th>\n",
       "      <th>time_signature</th>\n",
       "      <th>key</th>\n",
       "      <th>mode</th>\n",
       "      <th>duration</th>\n",
       "      <th>avg_timbre1</th>\n",
       "      <th>avg_timbre2</th>\n",
       "      <th>avg_timbre3</th>\n",
       "      <th>avg_timbre4</th>\n",
       "      <th>avg_timbre5</th>\n",
       "      <th>avg_timbre6</th>\n",
       "      <th>avg_timbre7</th>\n",
       "      <th>avg_timbre8</th>\n",
       "      <th>avg_timbre9</th>\n",
       "      <th>avg_timbre10</th>\n",
       "      <th>avg_timbre11</th>\n",
       "      <th>avg_timbre12</th>\n",
       "      <th>var_timbre1</th>\n",
       "      <th>var_timbre2</th>\n",
       "      <th>var_timbre3</th>\n",
       "      <th>var_timbre4</th>\n",
       "      <th>var_timbre5</th>\n",
       "      <th>var_timbre6</th>\n",
       "      <th>var_timbre7</th>\n",
       "      <th>var_timbre8</th>\n",
       "      <th>var_timbre9</th>\n",
       "      <th>var_timbre10</th>\n",
       "      <th>var_timbre11</th>\n",
       "      <th>var_timbre12</th>\n",
       "    </tr>\n",
       "  </thead>\n",
       "  <tbody>\n",
       "    <tr>\n",
       "      <th>46839</th>\n",
       "      <td>metal</td>\n",
       "      <td>TRZYQUA12903CE758D</td>\n",
       "      <td>MNEMIC</td>\n",
       "      <td>Sons Of The System</td>\n",
       "      <td>-5.072</td>\n",
       "      <td>180.016</td>\n",
       "      <td>1</td>\n",
       "      <td>10</td>\n",
       "      <td>0</td>\n",
       "      <td>240.29995</td>\n",
       "      <td>49.670804</td>\n",
       "      <td>60.616595</td>\n",
       "      <td>-1.250503</td>\n",
       "      <td>13.978898</td>\n",
       "      <td>-24.453502</td>\n",
       "      <td>-19.525889</td>\n",
       "      <td>13.613164</td>\n",
       "      <td>5.091642</td>\n",
       "      <td>-0.231408</td>\n",
       "      <td>13.209187</td>\n",
       "      <td>0.390282</td>\n",
       "      <td>-1.846266</td>\n",
       "      <td>19.215914</td>\n",
       "      <td>3137.299030</td>\n",
       "      <td>1557.312745</td>\n",
       "      <td>946.821287</td>\n",
       "      <td>451.393709</td>\n",
       "      <td>609.849348</td>\n",
       "      <td>255.307163</td>\n",
       "      <td>312.352374</td>\n",
       "      <td>314.857952</td>\n",
       "      <td>143.100204</td>\n",
       "      <td>221.082761</td>\n",
       "      <td>145.897933</td>\n",
       "    </tr>\n",
       "    <tr>\n",
       "      <th>46840</th>\n",
       "      <td>metal</td>\n",
       "      <td>TRHYDDL128F424C3DE</td>\n",
       "      <td>MNEMIC</td>\n",
       "      <td>Ghost</td>\n",
       "      <td>-4.846</td>\n",
       "      <td>111.002</td>\n",
       "      <td>4</td>\n",
       "      <td>1</td>\n",
       "      <td>1</td>\n",
       "      <td>335.62077</td>\n",
       "      <td>50.274717</td>\n",
       "      <td>84.682715</td>\n",
       "      <td>23.517153</td>\n",
       "      <td>-0.762290</td>\n",
       "      <td>-41.213246</td>\n",
       "      <td>-21.381801</td>\n",
       "      <td>11.139643</td>\n",
       "      <td>2.546418</td>\n",
       "      <td>-0.388439</td>\n",
       "      <td>9.405402</td>\n",
       "      <td>0.064806</td>\n",
       "      <td>3.483509</td>\n",
       "      <td>11.696920</td>\n",
       "      <td>719.728774</td>\n",
       "      <td>639.141884</td>\n",
       "      <td>618.786675</td>\n",
       "      <td>435.054526</td>\n",
       "      <td>737.162470</td>\n",
       "      <td>425.828135</td>\n",
       "      <td>289.306260</td>\n",
       "      <td>231.868961</td>\n",
       "      <td>189.057698</td>\n",
       "      <td>210.703223</td>\n",
       "      <td>156.909216</td>\n",
       "    </tr>\n",
       "    <tr>\n",
       "      <th>46841</th>\n",
       "      <td>metal</td>\n",
       "      <td>TRADHKC128F4292001</td>\n",
       "      <td>MNEMIC</td>\n",
       "      <td>Ghost</td>\n",
       "      <td>-5.097</td>\n",
       "      <td>111.027</td>\n",
       "      <td>4</td>\n",
       "      <td>1</td>\n",
       "      <td>1</td>\n",
       "      <td>335.62077</td>\n",
       "      <td>50.034580</td>\n",
       "      <td>85.046639</td>\n",
       "      <td>24.045478</td>\n",
       "      <td>-0.946761</td>\n",
       "      <td>-41.085097</td>\n",
       "      <td>-20.724447</td>\n",
       "      <td>11.390898</td>\n",
       "      <td>2.757842</td>\n",
       "      <td>-0.201922</td>\n",
       "      <td>9.572051</td>\n",
       "      <td>0.246968</td>\n",
       "      <td>3.357791</td>\n",
       "      <td>11.680690</td>\n",
       "      <td>718.455694</td>\n",
       "      <td>637.267315</td>\n",
       "      <td>615.351591</td>\n",
       "      <td>433.889540</td>\n",
       "      <td>696.727065</td>\n",
       "      <td>417.669179</td>\n",
       "      <td>289.993248</td>\n",
       "      <td>233.397446</td>\n",
       "      <td>187.719876</td>\n",
       "      <td>213.399502</td>\n",
       "      <td>156.013365</td>\n",
       "    </tr>\n",
       "    <tr>\n",
       "      <th>46842</th>\n",
       "      <td>metal</td>\n",
       "      <td>TRKJDIV128F424C3E3</td>\n",
       "      <td>MNEMIC</td>\n",
       "      <td>Blood stained</td>\n",
       "      <td>-6.066</td>\n",
       "      <td>147.984</td>\n",
       "      <td>5</td>\n",
       "      <td>1</td>\n",
       "      <td>0</td>\n",
       "      <td>437.41995</td>\n",
       "      <td>48.626407</td>\n",
       "      <td>44.787731</td>\n",
       "      <td>19.320124</td>\n",
       "      <td>8.974131</td>\n",
       "      <td>-16.588349</td>\n",
       "      <td>-23.556762</td>\n",
       "      <td>8.605912</td>\n",
       "      <td>-3.365094</td>\n",
       "      <td>6.792815</td>\n",
       "      <td>0.282344</td>\n",
       "      <td>2.503367</td>\n",
       "      <td>-1.211995</td>\n",
       "      <td>18.598470</td>\n",
       "      <td>2200.123020</td>\n",
       "      <td>1390.053508</td>\n",
       "      <td>604.562473</td>\n",
       "      <td>804.523344</td>\n",
       "      <td>514.689248</td>\n",
       "      <td>540.478361</td>\n",
       "      <td>399.735784</td>\n",
       "      <td>343.861185</td>\n",
       "      <td>224.957626</td>\n",
       "      <td>155.944348</td>\n",
       "      <td>218.477939</td>\n",
       "    </tr>\n",
       "    <tr>\n",
       "      <th>46843</th>\n",
       "      <td>metal</td>\n",
       "      <td>TRWEXXR128F425367B</td>\n",
       "      <td>MNEMIC</td>\n",
       "      <td>Tattoos</td>\n",
       "      <td>-5.259</td>\n",
       "      <td>125.074</td>\n",
       "      <td>3</td>\n",
       "      <td>11</td>\n",
       "      <td>0</td>\n",
       "      <td>396.64281</td>\n",
       "      <td>49.767038</td>\n",
       "      <td>88.676518</td>\n",
       "      <td>29.663460</td>\n",
       "      <td>3.505686</td>\n",
       "      <td>-46.547302</td>\n",
       "      <td>-19.689776</td>\n",
       "      <td>12.900283</td>\n",
       "      <td>1.711176</td>\n",
       "      <td>4.456213</td>\n",
       "      <td>11.117448</td>\n",
       "      <td>-0.227701</td>\n",
       "      <td>1.473160</td>\n",
       "      <td>17.208659</td>\n",
       "      <td>689.014699</td>\n",
       "      <td>716.335268</td>\n",
       "      <td>765.955838</td>\n",
       "      <td>550.621497</td>\n",
       "      <td>674.531401</td>\n",
       "      <td>377.820673</td>\n",
       "      <td>232.732456</td>\n",
       "      <td>184.245177</td>\n",
       "      <td>201.893223</td>\n",
       "      <td>201.194252</td>\n",
       "      <td>163.541505</td>\n",
       "    </tr>\n",
       "  </tbody>\n",
       "</table>\n",
       "</div>"
      ],
      "text/plain": [
       "       genre            track_id artist_name               title  loudness  \\\n",
       "46839  metal  TRZYQUA12903CE758D      MNEMIC  Sons Of The System    -5.072   \n",
       "46840  metal  TRHYDDL128F424C3DE      MNEMIC               Ghost    -4.846   \n",
       "46841  metal  TRADHKC128F4292001      MNEMIC               Ghost    -5.097   \n",
       "46842  metal  TRKJDIV128F424C3E3      MNEMIC       Blood stained    -6.066   \n",
       "46843  metal  TRWEXXR128F425367B      MNEMIC             Tattoos    -5.259   \n",
       "\n",
       "         tempo  time_signature  key  mode   duration  avg_timbre1  \\\n",
       "46839  180.016               1   10     0  240.29995    49.670804   \n",
       "46840  111.002               4    1     1  335.62077    50.274717   \n",
       "46841  111.027               4    1     1  335.62077    50.034580   \n",
       "46842  147.984               5    1     0  437.41995    48.626407   \n",
       "46843  125.074               3   11     0  396.64281    49.767038   \n",
       "\n",
       "       avg_timbre2  avg_timbre3  avg_timbre4  avg_timbre5  avg_timbre6  \\\n",
       "46839    60.616595    -1.250503    13.978898   -24.453502   -19.525889   \n",
       "46840    84.682715    23.517153    -0.762290   -41.213246   -21.381801   \n",
       "46841    85.046639    24.045478    -0.946761   -41.085097   -20.724447   \n",
       "46842    44.787731    19.320124     8.974131   -16.588349   -23.556762   \n",
       "46843    88.676518    29.663460     3.505686   -46.547302   -19.689776   \n",
       "\n",
       "       avg_timbre7  avg_timbre8  avg_timbre9  avg_timbre10  avg_timbre11  \\\n",
       "46839    13.613164     5.091642    -0.231408     13.209187      0.390282   \n",
       "46840    11.139643     2.546418    -0.388439      9.405402      0.064806   \n",
       "46841    11.390898     2.757842    -0.201922      9.572051      0.246968   \n",
       "46842     8.605912    -3.365094     6.792815      0.282344      2.503367   \n",
       "46843    12.900283     1.711176     4.456213     11.117448     -0.227701   \n",
       "\n",
       "       avg_timbre12  var_timbre1  var_timbre2  var_timbre3  var_timbre4  \\\n",
       "46839     -1.846266    19.215914  3137.299030  1557.312745   946.821287   \n",
       "46840      3.483509    11.696920   719.728774   639.141884   618.786675   \n",
       "46841      3.357791    11.680690   718.455694   637.267315   615.351591   \n",
       "46842     -1.211995    18.598470  2200.123020  1390.053508   604.562473   \n",
       "46843      1.473160    17.208659   689.014699   716.335268   765.955838   \n",
       "\n",
       "       var_timbre5  var_timbre6  var_timbre7  var_timbre8  var_timbre9  \\\n",
       "46839   451.393709   609.849348   255.307163   312.352374   314.857952   \n",
       "46840   435.054526   737.162470   425.828135   289.306260   231.868961   \n",
       "46841   433.889540   696.727065   417.669179   289.993248   233.397446   \n",
       "46842   804.523344   514.689248   540.478361   399.735784   343.861185   \n",
       "46843   550.621497   674.531401   377.820673   232.732456   184.245177   \n",
       "\n",
       "       var_timbre10  var_timbre11  var_timbre12  \n",
       "46839    143.100204    221.082761    145.897933  \n",
       "46840    189.057698    210.703223    156.909216  \n",
       "46841    187.719876    213.399502    156.013365  \n",
       "46842    224.957626    155.944348    218.477939  \n",
       "46843    201.893223    201.194252    163.541505  "
      ]
     },
     "execution_count": 75,
     "metadata": {},
     "output_type": "execute_result"
    }
   ],
   "source": [
    "genres = ['metal', 'classical']\n",
    "music_df_filter1 = music_df.loc[music_df['genre'].isin(genres)]\n",
    "music_df_filter1.head()"
   ]
  },
  {
   "cell_type": "code",
   "execution_count": 76,
   "metadata": {},
   "outputs": [
    {
     "data": {
      "text/plain": [
       "(3977, 34)"
      ]
     },
     "execution_count": 76,
     "metadata": {},
     "output_type": "execute_result"
    }
   ],
   "source": [
    "music_df_filter1.shape"
   ]
  },
  {
   "cell_type": "code",
   "execution_count": 77,
   "metadata": {},
   "outputs": [
    {
     "name": "stderr",
     "output_type": "stream",
     "text": [
      "C:\\ProgramData\\Anaconda3\\lib\\site-packages\\pandas\\core\\series.py:4509: SettingWithCopyWarning: \n",
      "A value is trying to be set on a copy of a slice from a DataFrame\n",
      "\n",
      "See the caveats in the documentation: https://pandas.pydata.org/pandas-docs/stable/user_guide/indexing.html#returning-a-view-versus-a-copy\n",
      "  return super().replace(\n"
     ]
    }
   ],
   "source": [
    "music_df_filter1['genre'].replace({\"metal\" : 0, \"classical\" : 1}, inplace=True)"
   ]
  },
  {
   "cell_type": "markdown",
   "metadata": {},
   "source": [
    "### Spliting train and test dataset"
   ]
  },
  {
   "cell_type": "code",
   "execution_count": 78,
   "metadata": {},
   "outputs": [],
   "source": [
    "X = music_df_filter1[music_df_filter1.columns.tolist()[4:]]\n",
    "Y = music_df_filter1['genre']\n",
    "X_train, X_test, Y_train, Y_test = train_test_split(X, Y, test_size = 0.3, stratify = Y)"
   ]
  },
  {
   "cell_type": "code",
   "execution_count": 79,
   "metadata": {},
   "outputs": [
    {
     "name": "stdout",
     "output_type": "stream",
     "text": [
      "0    0.528926\n",
      "1    0.471074\n",
      "Name: genre, dtype: float64\n",
      "0    0.528476\n",
      "1    0.471524\n",
      "Name: genre, dtype: float64\n"
     ]
    }
   ],
   "source": [
    "print(pd.Series(Y_train).value_counts(normalize = True))\n",
    "print(pd.Series(Y_test).value_counts(normalize = True))"
   ]
  },
  {
   "cell_type": "markdown",
   "metadata": {},
   "source": [
    "### Preprocesing matrix feature"
   ]
  },
  {
   "cell_type": "code",
   "execution_count": 80,
   "metadata": {},
   "outputs": [],
   "source": [
    "scaler = StandardScaler()\n",
    "X_train = scaler.fit_transform(X_train)"
   ]
  },
  {
   "cell_type": "code",
   "execution_count": 81,
   "metadata": {},
   "outputs": [],
   "source": [
    "X_test = scaler.transform(X_test)"
   ]
  },
  {
   "cell_type": "markdown",
   "metadata": {},
   "source": [
    "### Training a Neural Networks model"
   ]
  },
  {
   "cell_type": "code",
   "execution_count": 82,
   "metadata": {},
   "outputs": [
    {
     "name": "stderr",
     "output_type": "stream",
     "text": [
      "C:\\ProgramData\\Anaconda3\\lib\\site-packages\\sklearn\\neural_network\\_multilayer_perceptron.py:614: ConvergenceWarning: Stochastic Optimizer: Maximum iterations (200) reached and the optimization hasn't converged yet.\n",
      "  warnings.warn(\n"
     ]
    }
   ],
   "source": [
    "neuralmodel1 = MLPClassifier()\n",
    "neuralmodel1.fit(X_train, Y_train.astype(int))\n",
    "neuralmodel_predictions1 = neuralmodel1.predict(X_test)"
   ]
  },
  {
   "cell_type": "code",
   "execution_count": 85,
   "metadata": {},
   "outputs": [
    {
     "data": {
      "image/png": "[encoded data removed]",
      "text/plain": [
       "<Figure size 432x288 with 2 Axes>"
      ]
     },
     "metadata": {
      "needs_background": "light"
     },
     "output_type": "display_data"
    }
   ],
   "source": [
    "drawConfusionMatrix(Y_test, neuralmodel1, neuralmodel_predictions1)"
   ]
  },
  {
   "cell_type": "code",
   "execution_count": 87,
   "metadata": {},
   "outputs": [
    {
     "name": "stdout",
     "output_type": "stream",
     "text": [
      "Precision:  0.9638989169675091\n",
      "Recall:  0.9484902309058615\n",
      "F1_score:  0.9561324977618622\n"
     ]
    }
   ],
   "source": [
    "printMeasure(Y_test, neuralmodel_predictions1)"
   ]
  },
  {
   "cell_type": "markdown",
   "metadata": {},
   "source": [
    "### Training a Support Vector Machine model"
   ]
  },
  {
   "cell_type": "code",
   "execution_count": 89,
   "metadata": {},
   "outputs": [],
   "source": [
    "svmmodel1 = SVC()\n",
    "svmmodel1.fit(X_train, Y_train.astype(int))\n",
    "svmmodel_predictions1 = svmmodel1.predict(X_test)"
   ]
  },
  {
   "cell_type": "code",
   "execution_count": 91,
   "metadata": {},
   "outputs": [
    {
     "data": {
      "image/png": "[encoded data removed]",
      "text/plain": [
       "<Figure size 432x288 with 2 Axes>"
      ]
     },
     "metadata": {
      "needs_background": "light"
     },
     "output_type": "display_data"
    }
   ],
   "source": [
    "drawConfusionMatrix(Y_test, svmmodel1, svmmodel_predictions1)"
   ]
  },
  {
   "cell_type": "code",
   "execution_count": 92,
   "metadata": {},
   "outputs": [
    {
     "name": "stdout",
     "output_type": "stream",
     "text": [
      "Precision:  0.948306595365419\n",
      "Recall:  0.9449378330373002\n",
      "F1_score:  0.9466192170818505\n"
     ]
    }
   ],
   "source": [
    "printMeasure(Y_test, svmmodel_predictions1)"
   ]
  }
 ],
 "metadata": {
  "kernelspec": {
   "display_name": "Python 3",
   "language": "python",
   "name": "python3"
  },
  "language_info": {
   "codemirror_mode": {
    "name": "ipython",
    "version": 3
   },
   "file_extension": ".py",
   "mimetype": "text/x-python",
   "name": "python",
   "nbconvert_exporter": "python",
   "pygments_lexer": "ipython3",
   "version": "3.8.8"
  }
 },
 "nbformat": 4,
 "nbformat_minor": 4
}
